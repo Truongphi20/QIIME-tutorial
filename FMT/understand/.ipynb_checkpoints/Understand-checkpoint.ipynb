{
 "cells": [
  {
   "cell_type": "markdown",
   "id": "a8aea70b-f2b5-49fb-a469-eedafdf8efa7",
   "metadata": {
    "jp-MarkdownHeadingCollapsed": true,
    "tags": []
   },
   "source": [
    "# Understand feature table summary"
   ]
  },
  {
   "cell_type": "code",
   "execution_count": 1,
   "id": "f1740a23-3f92-424c-8840-b065e0225c11",
   "metadata": {},
   "outputs": [
    {
     "name": "stdout",
     "output_type": "stream",
     "text": [
      "                              sample-id sequencing-run  sample-type  \\\n",
      "0                             #q2:types    categorical  categorical   \n",
      "1  595e93ed.e4b3.42b5.91b1.1ad4f31e7134          run-1        stool   \n",
      "2  bd64992d.87cc.464f.9e1b.9c0156ed65d8          run-1        stool   \n",
      "3  e7a2370c.f80c.4703.b2ee.10c65967e05f          run-1        stool   \n",
      "4  11f3f37a.3698.4031.8183.75f6f2c6c04c          run-1        stool   \n",
      "\n",
      "  treatment-group   subject-id     week     gsrs gsrs-diff  \\\n",
      "0     categorical  categorical  numeric  numeric   numeric   \n",
      "1       treatment         B101        0      2.9         0   \n",
      "2       treatment         B101        3      1.8      -1.1   \n",
      "3       treatment         B101       10      1.3      -1.6   \n",
      "4       treatment         B101       18      1.3      -1.6   \n",
      "\n",
      "  administration-route      age       gender   weight   height      bmi  \n",
      "0          categorical  numeric  categorical  numeric  numeric  numeric  \n",
      "1                 Oral     12.5            m       63       55     14.8  \n",
      "2                 Oral     12.5            m       63       55     14.8  \n",
      "3                 Oral     12.5            m       63       55     14.8  \n",
      "4                 Oral     12.5            m       63       55     14.8  \n"
     ]
    }
   ],
   "source": [
    "import pandas as pd\n",
    "\n",
    "metaData = pd.read_csv(\n",
    "    '/home/truongphi/Desktop/meta/QIIME/FMT/work/0d/5f61f99d20e960af787b108e74bba1/sample_metadata_filtered.tsv',\n",
    "    sep=\"\\t\")\n",
    "print(metaData.head())"
   ]
  },
  {
   "cell_type": "code",
   "execution_count": null,
   "id": "a8624bf8-5b13-42dc-b88b-a698606f1ef1",
   "metadata": {},
   "outputs": [],
   "source": [
    "from biom import load_table\n",
    "table = load_table('feature_table/feature-table.biom') \n",
    "print(dir(table))"
   ]
  },
  {
   "cell_type": "code",
   "execution_count": null,
   "id": "a440c97b-7b4f-4a06-b3d7-32e6593add8b",
   "metadata": {},
   "outputs": [],
   "source": [
    "dataframe = pd.DataFrame(table.to_dataframe())\n",
    "dataframe.to_csv('feature_table/data.csv')"
   ]
  },
  {
   "cell_type": "code",
   "execution_count": null,
   "id": "4bfdad4b-b2ae-42bc-a4c7-5d6131ad8dce",
   "metadata": {},
   "outputs": [],
   "source": [
    "table_data = pd.read_csv('feature_table/data.csv', index_col=0)\n",
    "table_data"
   ]
  },
  {
   "cell_type": "markdown",
   "id": "476f5fb9-ad90-426e-a617-ac12c2d33644",
   "metadata": {},
   "source": [
    "## Frequency per sample"
   ]
  },
  {
   "cell_type": "code",
   "execution_count": null,
   "id": "46ed9c2b-d682-4e3f-a677-5eeb4c0bac1c",
   "metadata": {},
   "outputs": [],
   "source": [
    "def countFeature(lista):\n",
    "    count = 0\n",
    "    for ele in lista:\n",
    "        if ele > 0:\n",
    "            count += 1\n",
    "    return count\n",
    "\n",
    "FixList = lambda lista: [i for l in lista for i in l]\n",
    "\n",
    "CountData = lambda features, table_data: [countFeature(table_data[table_data.index==feature].transpose().astype('float64').values) for feature in features]\n",
    "SumData = lambda features, table_data: [sum(FixList(table_data[table_data.index==feature].transpose().astype('float64').values)) for feature in features]\n",
    "\n",
    "def MakeTable(features, table_data):\n",
    "    count_values = CountData(features, table_data)\n",
    "    sum_values = SumData(features, table_data)\n",
    "\n",
    "    frePerFeature = pd.DataFrame(zip(sum_values, count_values), index=features, columns=['Frequency', 'Count'])\n",
    "    # print(frePerFeature)\n",
    "    return frePerFeature"
   ]
  },
  {
   "cell_type": "code",
   "execution_count": null,
   "id": "011522a9-5af6-43f0-acfa-7eae356c4fb8",
   "metadata": {},
   "outputs": [],
   "source": [
    "headers = table_data.columns\n",
    "sum_values = [sum(table_data[header]) for header in headers]\n",
    "count_values = [countFeature(table_data[header].astype('float64').values) for header in headers]\n",
    "\n",
    "frePerSample = pd.DataFrame(zip(sum_values, count_values), index=headers, columns=['Frequency', 'Count'])\n",
    "print(frePerSample)"
   ]
  },
  {
   "cell_type": "code",
   "execution_count": null,
   "id": "2b9ced66-228d-4642-b4f1-3164429edc3f",
   "metadata": {},
   "outputs": [],
   "source": [
    "print(frePerSample.describe())\n",
    "print(frePerSample.median())"
   ]
  },
  {
   "cell_type": "code",
   "execution_count": null,
   "id": "b45610f5-183b-42c7-a433-d002f196df0b",
   "metadata": {},
   "outputs": [],
   "source": [
    "import seaborn as sns\n",
    "import matplotlib\n",
    "%matplotlib inline\n",
    "import matplotlib.pyplot as plt\n",
    "\n",
    "sns.histplot(data=frePerSample[\"Frequency\"], bins=8)\n",
    "plt.show()"
   ]
  },
  {
   "cell_type": "markdown",
   "id": "ff1c2f42-a293-481d-9292-da9653056530",
   "metadata": {},
   "source": [
    "## Frequency per Features"
   ]
  },
  {
   "cell_type": "code",
   "execution_count": null,
   "id": "f5e2a408-89f7-4d28-98b3-44a70f24584d",
   "metadata": {},
   "outputs": [],
   "source": [
    "features = table_data.index\n",
    "\n",
    "frePerFeature = MakeTable(features, table_data)\n",
    "print(frePerFeature)"
   ]
  },
  {
   "cell_type": "code",
   "execution_count": null,
   "id": "1ae3a730-150a-4b09-a345-f5fc1ccd7e4b",
   "metadata": {},
   "outputs": [],
   "source": [
    "print(frePerFeature.describe())\n",
    "print(frePerFeature.median())"
   ]
  },
  {
   "cell_type": "markdown",
   "id": "7e31b36f-0ae8-4f50-aeea-bbeb67db2a8b",
   "metadata": {},
   "source": [
    "## Interactive"
   ]
  },
  {
   "cell_type": "code",
   "execution_count": null,
   "id": "05e1e93e-4947-4dad-987f-a14a30596db8",
   "metadata": {},
   "outputs": [],
   "source": [
    "sample_depth = 1206\n",
    "\n",
    "retain_sample = frePerSample[frePerSample['Frequency']>=sample_depth]\n",
    "num_retain_sample = len(retain_sample)\n",
    "print(f'The number of samples remain: {num_retain_sample}')\n",
    "print(f'The number of samples remain: {sample_depth*num_retain_sample}')\n"
   ]
  },
  {
   "cell_type": "code",
   "execution_count": null,
   "id": "00b20fe6-a542-49fa-bb22-3598f6d62f97",
   "metadata": {},
   "outputs": [],
   "source": [
    "num_sample = len(frePerSample)\n",
    "# print(num_sample)\n",
    "\n",
    "num_feature = len(frePerFeature)\n",
    "# print(num_feature)\n",
    "\n",
    "max_depth = max(frePerSample['Frequency'])\n",
    "# print(max_depth)\n",
    "\n",
    "total_fre = sum(frePerSample['Frequency'])"
   ]
  },
  {
   "cell_type": "code",
   "execution_count": null,
   "id": "4d445d3b-603d-489c-a6b4-f03a9ff80801",
   "metadata": {},
   "outputs": [],
   "source": [
    "def SampleDepth(sample_depth, frePerSample):\n",
    "    retain_sample = frePerSample[frePerSample['Frequency']>=sample_depth]\n",
    "    num_retain_sample = len(retain_sample)*100/num_sample\n",
    "    num_retain_feature = sample_depth*num_retain_sample*100/total_fre\n",
    "    return num_retain_feature, num_retain_sample"
   ]
  },
  {
   "cell_type": "code",
   "execution_count": null,
   "id": "78bd9e2c-b8f1-48c6-9269-038c736e2200",
   "metadata": {},
   "outputs": [],
   "source": [
    "import numpy as np\n",
    "\n",
    "depths = list(range(int(max_depth)+1))\n",
    "\n",
    "retain_feature = [] \n",
    "retain_sample = []\n",
    "for depth in depths:\n",
    "    num1, num2 = SampleDepth(depth, frePerSample)\n",
    "    # print(num1, num2)\n",
    "    retain_feature.append(num1)\n",
    "    retain_sample.append(num2)"
   ]
  },
  {
   "cell_type": "code",
   "execution_count": null,
   "id": "76e229d0-45d5-4cf7-b46e-822b939df074",
   "metadata": {},
   "outputs": [],
   "source": [
    "import matplotlib.pyplot as plt\n",
    "\n",
    "# fig, ax1 = plt.subplots(figsize=(15, 8))\n",
    "# ax2 = ax1.twinx()\n",
    "\n",
    "# l1, = ax1.plot(depths, retain_feature, label='Number of features')\n",
    "# l2, = ax2.plot(depths, retain_sample, color='y', label='Number of samples')\n",
    "# ax1.set_xlabel(\"Sampling Depth\")\n",
    "# ax1.set_ylabel(\"Number of features\")\n",
    "# ax2.set_ylabel(\"Number of samples\")\n",
    "# plt.xticks(list(range(0, int(max_depth), 1000)))\n",
    "# plt.legend([l1, l2], ['Number of features', 'Number of samples'])\n",
    "# plt.show();"
   ]
  },
  {
   "cell_type": "code",
   "execution_count": null,
   "id": "554451fc-5bf9-49cd-9953-5c6fffcf631d",
   "metadata": {},
   "outputs": [],
   "source": [
    "\n",
    "plt.figure(figsize=(15,8))\n",
    "plt.plot(depths, retain_feature, label='Percent of features');\n",
    "plt.plot(depths, retain_sample, color='y', label='Percent of samples');\n",
    "plt.xlabel('Sample Depth')\n",
    "plt.xticks(list(range(0,int(max_depth)+1,1000)))\n",
    "plt.ylabel('Percentage')\n",
    "plt.ylim([0,100])\n",
    "plt.xlim([0,int(max_depth)+1])\n",
    "plt.legend()\n",
    "plt.show()\n",
    "# plt.tight_layout()\n",
    "# plt.savefig('graph.png', dpi=300)"
   ]
  },
  {
   "cell_type": "markdown",
   "id": "47372801-1768-4071-95f0-774599dbe1b8",
   "metadata": {},
   "source": [
    "# Rarefraction"
   ]
  },
  {
   "cell_type": "code",
   "execution_count": null,
   "id": "9bc724c6-9fc1-4e88-aa3c-93686f29d2c2",
   "metadata": {},
   "outputs": [],
   "source": []
  }
 ],
 "metadata": {
  "kernelspec": {
   "display_name": "Python 3 (ipykernel)",
   "language": "python",
   "name": "python3"
  },
  "language_info": {
   "codemirror_mode": {
    "name": "ipython",
    "version": 3
   },
   "file_extension": ".py",
   "mimetype": "text/x-python",
   "name": "python",
   "nbconvert_exporter": "python",
   "pygments_lexer": "ipython3",
   "version": "3.10.6"
  }
 },
 "nbformat": 4,
 "nbformat_minor": 5
}
